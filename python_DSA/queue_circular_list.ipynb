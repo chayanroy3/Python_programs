{
 "cells": [
  {
   "cell_type": "markdown",
   "id": "e09be479",
   "metadata": {},
   "source": [
    "## Circular queue using python list\n"
   ]
  },
  {
   "cell_type": "code",
   "execution_count": 5,
   "id": "24e27d5e",
   "metadata": {},
   "outputs": [],
   "source": [
    "class Queue:\n",
    "    def __init__(self,maxsize):\n",
    "        self.items=maxsize * [None]\n",
    "        self.maxsize= maxsize\n",
    "        self.start=-1\n",
    "        self.top=-1\n",
    "    def __str__(self):\n",
    "        values=[str(x) for x in self.items]\n",
    "        return ' '.join(values)\n",
    "    def isfull(self):\n",
    "        if self.top +1 == self.start:\n",
    "            return True\n",
    "        elif self.start==0 and self.top +1==self.maxsize:\n",
    "            return True\n",
    "        else:\n",
    "            return False\n",
    "    def isempty(self):\n",
    "        if self.top==-1:\n",
    "            return True\n",
    "        else:\n",
    "            return False\n",
    "    def enqueue(Self,value):\n",
    "        if self.isfull:\n",
    "            return \"the queue is full\"\n",
    "        else:\n",
    "            if self.top +1==self.maxsize:\n",
    "                self.top=0\n",
    "            else:\n",
    "                self.top+=1\n",
    "                if self.start==-1:\n",
    "                    self.start=0\n",
    "            self.items[self.top]=value\n",
    "            return \"The element is successfully insearted\"\n",
    "        \n",
    "        def dequeue(self):\n",
    "            if self.isempty():\n",
    "                return \"There is not any element in the queue\"\n",
    "            else:\n",
    "                firstelement=self.items[self.start]\n",
    "                start= self.start\n",
    "                if self.start==self.top:\n",
    "                    self.start=-1\n",
    "                    self.top=-1\n",
    "                elif self.start+1==self.maxsize:\n",
    "                    self.start=0\n",
    "                else:\n",
    "                    self.start += 1\n",
    "                self.items[start]=None\n",
    "                return fristelement\n",
    "        def peak(Self):\n",
    "            if self.isempty():\n",
    "                return \"there is no element in the queue\"\n",
    "            else:\n",
    "                return self.items[self.start]\n",
    "        def delete(self):\n",
    "            self.item=self.maxsize * [None]\n",
    "            self.top=-1\n",
    "            self.start=-1\n",
    "            return \"All the lements are deleted\"\n",
    "        d\n",
    "            \n",
    "                    \n",
    "                \n",
    "            \n",
    "            \n",
    "        "
   ]
  },
  {
   "cell_type": "code",
   "execution_count": null,
   "id": "efb4b886",
   "metadata": {},
   "outputs": [],
   "source": []
  }
 ],
 "metadata": {
  "kernelspec": {
   "display_name": "Python 3 (ipykernel)",
   "language": "python",
   "name": "python3"
  },
  "language_info": {
   "codemirror_mode": {
    "name": "ipython",
    "version": 3
   },
   "file_extension": ".py",
   "mimetype": "text/x-python",
   "name": "python",
   "nbconvert_exporter": "python",
   "pygments_lexer": "ipython3",
   "version": "3.10.6"
  }
 },
 "nbformat": 4,
 "nbformat_minor": 5
}
