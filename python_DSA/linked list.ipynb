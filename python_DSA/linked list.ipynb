{
 "cells": [
  {
   "cell_type": "code",
   "execution_count": 6,
   "id": "42285a12",
   "metadata": {},
   "outputs": [
    {
     "name": "stdout",
     "output_type": "stream",
     "text": [
      "[1, 3, 2]\n"
     ]
    }
   ],
   "source": [
    "class Node:\n",
    "    def __init__(self,value=None):\n",
    "        self.value=value\n",
    "        self.next=None\n",
    "        \n",
    "class sLinkedList:\n",
    "    def __init__(self):\n",
    "        self.head=None\n",
    "        self.tail=None\n",
    "    def __iter__(self):\n",
    "        node=self.head\n",
    "        while node:\n",
    "            yield node\n",
    "            node=node.next\n",
    "    #insert in linked list\n",
    "    def insertSLL(self,value,location):\n",
    "        newnode=Node(value)\n",
    "        if self.head is None:\n",
    "            self.head = newnode\n",
    "            self.tail = newnode\n",
    "        else:\n",
    "            if location==0:\n",
    "                newnode.next=self.head\n",
    "                self.head=newnode\n",
    "            elif location==-1:\n",
    "                newnode.next=None\n",
    "                self.tail.next=newnode\n",
    "                self.tail=newnode\n",
    "            else:\n",
    "                tempnode=self.head\n",
    "                index=0\n",
    "                while index<location -1:\n",
    "                    tempnode=tempnode.next\n",
    "                    index +=1\n",
    "                nextnode=tempnode.next\n",
    "                tempnode.next=newnode\n",
    "                newnode.next= nextnode\n",
    "                if tempnode == self.tail:\n",
    "                    self.tail=newnode\n",
    "                \n",
    "sl=sLinkedList()\n",
    "sl.insertSLL(1,1)\n",
    "sl.insertSLL(2,1)\n",
    "sl.insertSLL(3,1)\n",
    "print([node.value for node in sl])\n",
    "                    \n",
    "                    \n",
    "                \n",
    "                \n",
    "                "
   ]
  },
  {
   "cell_type": "code",
   "execution_count": null,
   "id": "8ec315da",
   "metadata": {},
   "outputs": [],
   "source": []
  }
 ],
 "metadata": {
  "kernelspec": {
   "display_name": "Python 3 (ipykernel)",
   "language": "python",
   "name": "python3"
  },
  "language_info": {
   "codemirror_mode": {
    "name": "ipython",
    "version": 3
   },
   "file_extension": ".py",
   "mimetype": "text/x-python",
   "name": "python",
   "nbconvert_exporter": "python",
   "pygments_lexer": "ipython3",
   "version": "3.10.6"
  }
 },
 "nbformat": 4,
 "nbformat_minor": 5
}
