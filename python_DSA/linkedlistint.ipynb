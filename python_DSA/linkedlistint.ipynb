{
 "cells": [
  {
   "cell_type": "code",
   "execution_count": null,
   "metadata": {},
   "outputs": [],
   "source": [
    "class Node:\n",
    "    def __init__(self, value=None):\n",
    "        self.value=value\n",
    "        self.next=None\n",
    "        self.prev=None\n",
    "    def __str__(self):\n",
    "        return str(self.value)\n",
    "class Linkedlist:\n",
    "    def __init__(self,value=None):\n",
    "        self.head=None\n",
    "        self.tail=None\n",
    "    def __iter__(self):\n",
    "        "
   ]
  }
 ],
 "metadata": {
  "kernelspec": {
   "display_name": "Python 3.10.6 64-bit",
   "language": "python",
   "name": "python3"
  },
  "language_info": {
   "codemirror_mode": {
    "name": "ipython",
    "version": 3
   },
   "file_extension": ".py",
   "mimetype": "text/x-python",
   "name": "python",
   "nbconvert_exporter": "python",
   "pygments_lexer": "ipython3",
   "version": "3.10.6"
  },
  "orig_nbformat": 4,
  "vscode": {
   "interpreter": {
    "hash": "352029eeff23e1dcaa58ca9ebf758308cb532571c8b39a1d5b8ff031dfb7ed0f"
   }
  }
 },
 "nbformat": 4,
 "nbformat_minor": 2
}
