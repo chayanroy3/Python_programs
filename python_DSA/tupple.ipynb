{
 "cells": [
  {
   "cell_type": "markdown",
   "id": "38bb46f1",
   "metadata": {},
   "source": [
    "## Tuple\n",
    "these are immutable"
   ]
  },
  {
   "cell_type": "code",
   "execution_count": 1,
   "id": "ac356dd7",
   "metadata": {},
   "outputs": [
    {
     "name": "stdout",
     "output_type": "stream",
     "text": [
      "('a', 'b', 'c', 'd')\n"
     ]
    }
   ],
   "source": [
    "ntupple='a','b','c','d'\n",
    "print(ntupple)"
   ]
  },
  {
   "cell_type": "code",
   "execution_count": 2,
   "id": "d3659c41",
   "metadata": {},
   "outputs": [
    {
     "name": "stdout",
     "output_type": "stream",
     "text": [
      "('a',)\n"
     ]
    }
   ],
   "source": [
    "#tupple with just a element\n",
    "onetup='a',  #be carefull abbout the final coma\n",
    "print(onetup)"
   ]
  },
  {
   "cell_type": "code",
   "execution_count": 5,
   "id": "7e603f99",
   "metadata": {},
   "outputs": [
    {
     "data": {
      "text/plain": [
       "()"
      ]
     },
     "execution_count": 5,
     "metadata": {},
     "output_type": "execute_result"
    }
   ],
   "source": [
    "#empty tupple\n",
    "etup=tuple()\n",
    "etup"
   ]
  },
  {
   "cell_type": "code",
   "execution_count": 6,
   "id": "3fb3bc70",
   "metadata": {},
   "outputs": [
    {
     "name": "stdout",
     "output_type": "stream",
     "text": [
      "('a', 'b', 'c', 'd', 'e', 'f', 'g', 'h')\n"
     ]
    }
   ],
   "source": [
    "mtuple=tuple('abcdefgh')\n",
    "print(mtuple)"
   ]
  },
  {
   "cell_type": "markdown",
   "id": "9cf9e3b5",
   "metadata": {},
   "source": [
    "slice operator \\n\n",
    "tuplename[leftindex:rightindex]  from index to upto index"
   ]
  },
  {
   "cell_type": "code",
   "execution_count": 8,
   "id": "b65954f3",
   "metadata": {},
   "outputs": [
    {
     "name": "stdout",
     "output_type": "stream",
     "text": [
      "a\n",
      "b\n",
      "c\n",
      "d\n",
      "e\n",
      "f\n",
      "g\n",
      "h\n"
     ]
    }
   ],
   "source": [
    "#travarsing\n",
    "for i in mtuple:\n",
    "    print(i) # here i returns as tuple element"
   ]
  },
  {
   "cell_type": "code",
   "execution_count": 9,
   "id": "46278d9f",
   "metadata": {},
   "outputs": [
    {
     "name": "stdout",
     "output_type": "stream",
     "text": [
      "a\n",
      "b\n",
      "c\n",
      "d\n",
      "e\n",
      "f\n",
      "g\n",
      "h\n"
     ]
    }
   ],
   "source": [
    "for i in range(len(mtuple)):\n",
    "    print(mtuple[i])    #i here returns as index no"
   ]
  },
  {
   "cell_type": "code",
   "execution_count": 10,
   "id": "500b40a4",
   "metadata": {},
   "outputs": [
    {
     "data": {
      "text/plain": [
       "True"
      ]
     },
     "execution_count": 10,
     "metadata": {},
     "output_type": "execute_result"
    }
   ],
   "source": [
    "#searching\n",
    "'a' in mtuple"
   ]
  },
  {
   "cell_type": "code",
   "execution_count": 12,
   "id": "ca03320d",
   "metadata": {},
   "outputs": [],
   "source": [
    "#concatenation of two tuple\n",
    "newtuple=ntupple+mtuple"
   ]
  },
  {
   "cell_type": "code",
   "execution_count": 13,
   "id": "6e7d8ad9",
   "metadata": {},
   "outputs": [
    {
     "data": {
      "text/plain": [
       "('a', 'b', 'c', 'd', 'a', 'b', 'c', 'd', 'e', 'f', 'g', 'h')"
      ]
     },
     "execution_count": 13,
     "metadata": {},
     "output_type": "execute_result"
    }
   ],
   "source": [
    "newtuple"
   ]
  },
  {
   "cell_type": "code",
   "execution_count": 16,
   "id": "212ba6ad",
   "metadata": {},
   "outputs": [
    {
     "data": {
      "text/plain": [
       "('1', '2', '3', '5', '4')"
      ]
     },
     "execution_count": 16,
     "metadata": {},
     "output_type": "execute_result"
    }
   ],
   "source": [
    "ituple=tuple('12354')\n",
    "ituple"
   ]
  },
  {
   "cell_type": "code",
   "execution_count": 17,
   "id": "0f948250",
   "metadata": {},
   "outputs": [
    {
     "data": {
      "text/plain": [
       "2"
      ]
     },
     "execution_count": 17,
     "metadata": {},
     "output_type": "execute_result"
    }
   ],
   "source": [
    "#count repeatation in tuple\n",
    "newtuple.count('a')"
   ]
  },
  {
   "cell_type": "code",
   "execution_count": 19,
   "id": "c8c2709b",
   "metadata": {},
   "outputs": [
    {
     "data": {
      "text/plain": [
       "'h'"
      ]
     },
     "execution_count": 19,
     "metadata": {},
     "output_type": "execute_result"
    }
   ],
   "source": [
    "max(mtuple)"
   ]
  },
  {
   "cell_type": "code",
   "execution_count": null,
   "id": "633aa209",
   "metadata": {},
   "outputs": [],
   "source": [
    "#we can change entire tuple like creating new one with same name\n",
    "#but we cannot assign a value\n",
    "#can delete a entire tupple usiing del but cannot delete an element"
   ]
  },
  {
   "cell_type": "code",
   "execution_count": 20,
   "id": "7cf7c632",
   "metadata": {},
   "outputs": [],
   "source": [
    "# create a list inside tuple and a tuple in side list\n",
    "list=[(1,2),(2,3)]\n",
    "tuple=([1,2],[2,3])"
   ]
  },
  {
   "cell_type": "code",
   "execution_count": 25,
   "id": "aa750d4d",
   "metadata": {},
   "outputs": [
    {
     "data": {
      "text/plain": [
       "[(1, 2), (3, 2)]"
      ]
     },
     "execution_count": 25,
     "metadata": {},
     "output_type": "execute_result"
    }
   ],
   "source": [
    "list"
   ]
  },
  {
   "cell_type": "code",
   "execution_count": 22,
   "id": "6b96b64b",
   "metadata": {},
   "outputs": [
    {
     "data": {
      "text/plain": [
       "([1, 2], [2, 3])"
      ]
     },
     "execution_count": 22,
     "metadata": {},
     "output_type": "execute_result"
    }
   ],
   "source": [
    "tuple"
   ]
  },
  {
   "cell_type": "code",
   "execution_count": 24,
   "id": "e24256ac",
   "metadata": {},
   "outputs": [],
   "source": [
    "list[1]=(3,2)"
   ]
  },
  {
   "cell_type": "code",
   "execution_count": 26,
   "id": "dbde7b3b",
   "metadata": {},
   "outputs": [
    {
     "ename": "TypeError",
     "evalue": "'tuple' object does not support item assignment",
     "output_type": "error",
     "traceback": [
      "\u001b[1;31m---------------------------------------------------------------------------\u001b[0m",
      "\u001b[1;31mTypeError\u001b[0m                                 Traceback (most recent call last)",
      "Input \u001b[1;32mIn [26]\u001b[0m, in \u001b[0;36m<cell line: 1>\u001b[1;34m()\u001b[0m\n\u001b[1;32m----> 1\u001b[0m \u001b[38;5;28;43mtuple\u001b[39;49m\u001b[43m[\u001b[49m\u001b[38;5;241;43m1\u001b[39;49m\u001b[43m]\u001b[49m\u001b[38;5;241m=\u001b[39m[\u001b[38;5;241m3\u001b[39m,\u001b[38;5;241m2\u001b[39m]\n",
      "\u001b[1;31mTypeError\u001b[0m: 'tuple' object does not support item assignment"
     ]
    }
   ],
   "source": [
    "tuple[1]=[3,2]"
   ]
  },
  {
   "cell_type": "code",
   "execution_count": 27,
   "id": "40545992",
   "metadata": {},
   "outputs": [],
   "source": [
    "#nested tuple can also be made"
   ]
  },
  {
   "cell_type": "code",
   "execution_count": 28,
   "id": "0f88de32",
   "metadata": {},
   "outputs": [],
   "source": [
    "#tupple for heterogenous data type that doesn't change in the code and fuster\n",
    "#tuple used in saving key for faster access\n",
    "#tuples are write protected\n",
    "\n",
    "#list is for homogeneous data type and as it is mutable, it is used  where needed"
   ]
  },
  {
   "cell_type": "code",
   "execution_count": null,
   "id": "38daecda",
   "metadata": {},
   "outputs": [],
   "source": []
  }
 ],
 "metadata": {
  "kernelspec": {
   "display_name": "Python 3 (ipykernel)",
   "language": "python",
   "name": "python3"
  },
  "language_info": {
   "codemirror_mode": {
    "name": "ipython",
    "version": 3
   },
   "file_extension": ".py",
   "mimetype": "text/x-python",
   "name": "python",
   "nbconvert_exporter": "python",
   "pygments_lexer": "ipython3",
   "version": "3.10.6"
  }
 },
 "nbformat": 4,
 "nbformat_minor": 5
}
