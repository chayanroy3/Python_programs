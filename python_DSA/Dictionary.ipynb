{
 "cells": [
  {
   "cell_type": "code",
   "execution_count": 22,
   "id": "7488de0a",
   "metadata": {},
   "outputs": [],
   "source": [
    "mydic={\"name\":\"Chayan\",\"age\":22}\n"
   ]
  },
  {
   "cell_type": "code",
   "execution_count": 2,
   "id": "2456e26e",
   "metadata": {},
   "outputs": [
    {
     "data": {
      "text/plain": [
       "22"
      ]
     },
     "execution_count": 2,
     "metadata": {},
     "output_type": "execute_result"
    }
   ],
   "source": [
    "mydic[\"age\"]"
   ]
  },
  {
   "cell_type": "code",
   "execution_count": 3,
   "id": "67611730",
   "metadata": {},
   "outputs": [],
   "source": [
    "mydic={\"roll\":\"21PH05023\"} # update the existing "
   ]
  },
  {
   "cell_type": "code",
   "execution_count": 4,
   "id": "cfd562fb",
   "metadata": {},
   "outputs": [
    {
     "data": {
      "text/plain": [
       "{'roll': '21PH05023'}"
      ]
     },
     "execution_count": 4,
     "metadata": {},
     "output_type": "execute_result"
    }
   ],
   "source": [
    "mydic"
   ]
  },
  {
   "cell_type": "code",
   "execution_count": 15,
   "id": "599accd8",
   "metadata": {},
   "outputs": [],
   "source": [
    "#to add new\n",
    "mydic[\"phone\"]=7872617978"
   ]
  },
  {
   "cell_type": "code",
   "execution_count": 6,
   "id": "c7e204d9",
   "metadata": {},
   "outputs": [
    {
     "data": {
      "text/plain": [
       "{'roll': '21PH05023', 'phone': 7872617978}"
      ]
     },
     "execution_count": 6,
     "metadata": {},
     "output_type": "execute_result"
    }
   ],
   "source": [
    "mydic"
   ]
  },
  {
   "cell_type": "code",
   "execution_count": 7,
   "id": "65b37e5b",
   "metadata": {},
   "outputs": [
    {
     "name": "stdout",
     "output_type": "stream",
     "text": [
      "roll 21PH05023\n",
      "phone 7872617978\n"
     ]
    }
   ],
   "source": [
    "#traversing all elements\n",
    "def travdic(dict):\n",
    "    for key in dict:\n",
    "        print(key,dict[key])\n",
    "travdic(mydic)"
   ]
  },
  {
   "cell_type": "code",
   "execution_count": 8,
   "id": "d30ffd5f",
   "metadata": {},
   "outputs": [],
   "source": [
    "# searching\n",
    "def serdic(dict,value):\n",
    "    for key in dict:\n",
    "        if dict[key]==value:\n",
    "            return key,value\n",
    "    return \"The value is not in the dict\"\n",
    "    "
   ]
  },
  {
   "cell_type": "code",
   "execution_count": 9,
   "id": "bcd184d4",
   "metadata": {},
   "outputs": [
    {
     "data": {
      "text/plain": [
       "'The value is not in the dict'"
      ]
     },
     "execution_count": 9,
     "metadata": {},
     "output_type": "execute_result"
    }
   ],
   "source": [
    "serdic(mydic,5)"
   ]
  },
  {
   "cell_type": "code",
   "execution_count": 11,
   "id": "f0efa4c1",
   "metadata": {},
   "outputs": [
    {
     "data": {
      "text/plain": [
       "('phone', 7872617978)"
      ]
     },
     "execution_count": 11,
     "metadata": {},
     "output_type": "execute_result"
    }
   ],
   "source": [
    "serdic(mydic,7872617978)"
   ]
  },
  {
   "cell_type": "code",
   "execution_count": 16,
   "id": "3a4540a0",
   "metadata": {},
   "outputs": [
    {
     "data": {
      "text/plain": [
       "{'name': 'Chayan', 'age': 22}"
      ]
     },
     "execution_count": 16,
     "metadata": {},
     "output_type": "execute_result"
    }
   ],
   "source": [
    "#delete and remove\n",
    "pnum=mydic.pop(\"phone\")\n",
    "pnum\n",
    "mydic"
   ]
  },
  {
   "cell_type": "code",
   "execution_count": 17,
   "id": "4832a0af",
   "metadata": {},
   "outputs": [],
   "source": [
    "#deleting all clear\n",
    "del mydic"
   ]
  },
  {
   "cell_type": "code",
   "execution_count": 18,
   "id": "f1dd9e1d",
   "metadata": {},
   "outputs": [
    {
     "ename": "NameError",
     "evalue": "name 'mydic' is not defined",
     "output_type": "error",
     "traceback": [
      "\u001b[1;31m---------------------------------------------------------------------------\u001b[0m",
      "\u001b[1;31mNameError\u001b[0m                                 Traceback (most recent call last)",
      "Input \u001b[1;32mIn [18]\u001b[0m, in \u001b[0;36m<cell line: 1>\u001b[1;34m()\u001b[0m\n\u001b[1;32m----> 1\u001b[0m \u001b[43mmydic\u001b[49m\n",
      "\u001b[1;31mNameError\u001b[0m: name 'mydic' is not defined"
     ]
    }
   ],
   "source": [
    "mydic"
   ]
  },
  {
   "cell_type": "code",
   "execution_count": 20,
   "id": "412f5438",
   "metadata": {},
   "outputs": [],
   "source": [
    "mydic.clear()"
   ]
  },
  {
   "cell_type": "code",
   "execution_count": 21,
   "id": "77260931",
   "metadata": {},
   "outputs": [
    {
     "data": {
      "text/plain": [
       "{}"
      ]
     },
     "execution_count": 21,
     "metadata": {},
     "output_type": "execute_result"
    }
   ],
   "source": [
    "mydic"
   ]
  },
  {
   "cell_type": "code",
   "execution_count": 23,
   "id": "96acde21",
   "metadata": {},
   "outputs": [
    {
     "name": "stdout",
     "output_type": "stream",
     "text": [
      "dict_items([('name', 'Chayan'), ('age', 22)])\n"
     ]
    }
   ],
   "source": [
    "#returns but in tupple \n",
    "print(mydic.items())"
   ]
  },
  {
   "cell_type": "code",
   "execution_count": 24,
   "id": "ed87df1b",
   "metadata": {},
   "outputs": [
    {
     "name": "stdout",
     "output_type": "stream",
     "text": [
      "dict_keys(['name', 'age'])\n"
     ]
    }
   ],
   "source": [
    "print(mydic.keys())"
   ]
  },
  {
   "cell_type": "code",
   "execution_count": 28,
   "id": "fbfc4417",
   "metadata": {},
   "outputs": [
    {
     "name": "stdout",
     "output_type": "stream",
     "text": [
      "{'name': 'Chayan', 'age': 22, 'course': 'MSc'}\n"
     ]
    }
   ],
   "source": [
    "#if key not exist make the key and set default value \n",
    "mydic.setdefault(\"course\",\"MSc\")\n",
    "print(mydic)"
   ]
  },
  {
   "cell_type": "code",
   "execution_count": 29,
   "id": "7180b617",
   "metadata": {},
   "outputs": [
    {
     "data": {
      "text/plain": [
       "dict_values(['Chayan', 22, 'MSc'])"
      ]
     },
     "execution_count": 29,
     "metadata": {},
     "output_type": "execute_result"
    }
   ],
   "source": [
    " mydic.values()\n",
    "    "
   ]
  },
  {
   "cell_type": "code",
   "execution_count": 30,
   "id": "3c0a6849",
   "metadata": {},
   "outputs": [],
   "source": [
    "newdic={\"a\":1,\"b\":2}\n",
    "mydic.update(newdic)"
   ]
  },
  {
   "cell_type": "code",
   "execution_count": 31,
   "id": "afc00829",
   "metadata": {},
   "outputs": [
    {
     "data": {
      "text/plain": [
       "{'name': 'Chayan', 'age': 22, 'course': 'MSc', 'a': 1, 'b': 2}"
      ]
     },
     "execution_count": 31,
     "metadata": {},
     "output_type": "execute_result"
    }
   ],
   "source": [
    "mydic"
   ]
  },
  {
   "cell_type": "code",
   "execution_count": null,
   "id": "d7f980c7",
   "metadata": {},
   "outputs": [],
   "source": []
  }
 ],
 "metadata": {
  "kernelspec": {
   "display_name": "Python 3 (ipykernel)",
   "language": "python",
   "name": "python3"
  },
  "language_info": {
   "codemirror_mode": {
    "name": "ipython",
    "version": 3
   },
   "file_extension": ".py",
   "mimetype": "text/x-python",
   "name": "python",
   "nbconvert_exporter": "python",
   "pygments_lexer": "ipython3",
   "version": "3.10.6"
  }
 },
 "nbformat": 4,
 "nbformat_minor": 5
}
